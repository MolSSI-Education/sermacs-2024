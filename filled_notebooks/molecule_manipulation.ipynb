{
 "cells": [
  {
   "cell_type": "markdown",
   "metadata": {},
   "source": [
    "<div style=\"text-align:center;\">\n",
    "  <img src=\"images/molssi_main_horizontal.png\" style=\"display: block; margin: 0 auto; max-height:200px;\">\n",
    "</div>\n",
    "\n",
    "\n",
    "# Manipulating Small Molecules with Python\n",
    "\n",
    "<div class=\"alert alert-block alert-info\"> \n",
    "\n",
    "<h2>Overview</h2>\n",
    "\n",
    "<strong>Questions</strong>\n",
    "\n",
    "* How can I load molecular files using RDKit?\n",
    "* How can I manipulate and create new molecules from an existing molecule?\n",
    "\n",
    "<strong>Objectives</strong>\n",
    "\n",
    "* Learn about molecular file formats.\n",
    "* Modify a ligand file in a meaningful way and save the modified file for future use.\n",
    "\n",
    "</div>\n",
    "\n",
    "So far in this workshop, we have learned about using Python for fairly general applications. During the afternoon session, we will use Chemistry-specific libraries with the goal of performing a molecular docking calculation.\n",
    "\n",
    "In this notebook, we load an \"ideal\" structure for a small molecule ligand downloaded from the Protein Data Bank and then we manipulate it using a Python library called RDKit.\n",
    "\n",
    "The approach taken here is manual. We will pick atoms of interest visually, then morph atomic numbers in order to change a carbon atom into a nitrogen atom, and then add a methyl group by changing a hydrogen atom into a carbon atom.\n",
    "\n",
    "By loading our molecule from an ideal structure with 3D coordinates, we can ensure that we're already near a \"good structure\" that we can use for docking.\n",
    "\n",
    "### Libraries for this Notebook\n",
    "\n",
    "| Library    | Description     |\n",
    "| :-----------: | :------------ |\n",
    "| rdkit | Cheminformatics Toolkit |\n",
    "| Chem | A subset of rdkit for molecule manipulation |\n",
    "| IPythonConsole | A subset of rdkit to control image quality |\n",
    "| Draw | A subset of rdkit for structure drawing |\n",
    "| AllChem | A subset of rdkit for optimizing 3D structures |\n",
    "\n",
    "After completing this notebook, if you wish to dig deeper on rdkit, consider reading [Getting Started with rdkit in Python](https://www.rdkit.org/docs/GettingStartedInPython.html).\n",
    "\n",
    "## Molecular File Formats\n",
    "\n",
    "When working with molecules on a computer, molecules are often represented in a number of different file formats.\n",
    "As you may conclude from the rest of our notebooks, working with this \"zoo\" of file formats can sometimes be overwhelming.\n",
    "Depending on what you are trying to do, you may use a particular file format or a number of different file formats. \n",
    "Often, you will have to pick a file format based on the software you are using or the molecular information you want to save. \n",
    "\n",
    "In this first notebook, we will work with a ligand called `13U` that binds to the enzyme trypsin.\n",
    "You can see the structure for the ligand and protein [here](https://www.rcsb.org/structure/2ZQ2).\n",
    "\n",
    "## Visualizing the Ligand\n",
    "We have downloaded the ideal structure for this molecule as an SDF (structural data file). \n",
    "An SDF typically includes the 3D coordinates of a molecule. \n",
    "Let's use a Python library called NGLView to take a look at the 3D structure of our ligand."
   ]
  },
  {
   "cell_type": "code",
   "execution_count": null,
   "metadata": {},
   "outputs": [],
   "source": [
    "import nglview as nv\n",
    "\n",
    "view = nv.show_file(\"ligands/13U.sdf\")\n",
    "view"
   ]
  },
  {
   "cell_type": "markdown",
   "metadata": {},
   "source": [
    "## Modifying the Ligand Structure\n",
    "Now that we've visualized our ligand, let's load it into a Python library that allows us to modify it.\n",
    "We will load this SDF file into RDKit to create an RDKit molecule.\n",
    "Then, we can modify the molecule and save our new versions."
   ]
  },
  {
   "cell_type": "code",
   "execution_count": null,
   "metadata": {},
   "outputs": [],
   "source": [
    "from rdkit import Chem # For reading SDF\n",
    "from rdkit.Chem.Draw import IPythonConsole # So that we can change display settings\n",
    "\n",
    "# Configuration for displaying in Jupyter notebooks\n",
    "IPythonConsole.ipython_useSVG = True  # Use SVG for higher quality images\n",
    "IPythonConsole.drawOptions.addAtomIndices = True  # Show atom indices\n",
    "IPythonConsole.molSize = 600,600 # Set size of image\n",
    "\n",
    "ligand = Chem.MolFromMolFile(\"ligands/13U.sdf\")\n",
    "ligand"
   ]
  },
  {
   "cell_type": "markdown",
   "metadata": {},
   "source": [
    "In the cell above, we used RDKit to read in the data in the file `ligands/13U.sdf`. \n",
    "\n",
    "Our variable `ligand` is an RDKit molecule. We can perform actions on the molecule like getting the number of atoms using functions from RDKit.\n"
   ]
  },
  {
   "cell_type": "code",
   "execution_count": null,
   "metadata": {},
   "outputs": [],
   "source": [
    "# For example, we can get the number of atoms.\n",
    "ligand.GetNumAtoms()"
   ]
  },
  {
   "cell_type": "markdown",
   "metadata": {},
   "source": [
    "We will modify the ligand above, ([13U: N-cyclooctylglycyl-N-(4-carbamimidoylbenzyl)-L-prolinamide](https://www.rcsb.org/ligand/13U)) as our starting point to create two additional ligands. \n",
    "In one case, we will substitute nitrogen for carbon in an aromatic ring. In the second case, a carbon will be added to the original aromatic ring. \n",
    "\n",
    "Please notice the index numbers attached to each atom in the ligand image generated by the previous cell. This is possible because of an earlier command that we used to display these index numbers, repeated below.\n",
    "\n",
    "`IPythonConsole.drawOptions.addAtomIndices = True  # Show atom indices`\n",
    "\n",
    "We will use these index numbers to tell the Python code which atoms to modify."
   ]
  },
  {
   "cell_type": "code",
   "execution_count": null,
   "metadata": {},
   "outputs": [],
   "source": [
    "# load a duplicate copy of 13U to manipulate\n",
    "mod_ligand_N = Chem.MolFromMolFile(\"ligands/13U.sdf\")\n",
    "mod_ligand_N"
   ]
  },
  {
   "cell_type": "markdown",
   "metadata": {},
   "source": [
    "Using RDKit, we can select a particular atom and change its atomic number."
   ]
  },
  {
   "cell_type": "code",
   "execution_count": null,
   "metadata": {},
   "outputs": [],
   "source": [
    "# change carbon in ring to a nitrogen\n",
    "atom = mod_ligand_N.GetAtomWithIdx(23)\n",
    "\n",
    "atom.SetAtomicNum(7)\n",
    "\n",
    "mod_ligand_N"
   ]
  },
  {
   "cell_type": "markdown",
   "metadata": {},
   "source": [
    "In some cases, we might see that morphing an atom leads to an incorrect number of hydrogens on the structure. \n",
    "We can explicitly specify the number of hydrogens on an atom. In our case, we would expect for the nitrogen atom in the ring to not have any hydrogens."
   ]
  },
  {
   "cell_type": "code",
   "execution_count": null,
   "metadata": {},
   "outputs": [],
   "source": [
    "atom.SetNumExplicitHs(0) # Set the number of explicit hydrogens to 0"
   ]
  },
  {
   "cell_type": "code",
   "execution_count": null,
   "metadata": {},
   "outputs": [],
   "source": [
    "# Look at position 23 now\n",
    "mod_ligand_N"
   ]
  },
  {
   "cell_type": "markdown",
   "metadata": {},
   "source": [
    "Now we'll perform the same operations, but this time add a methyl group to the ring.\n",
    "In this notebook, we're going to morph the hydrogen on the carbon atom to a carbon atom.\n",
    "However, a more \"standard\" way to do this would be to create two molecule fragments and then merge them together.\n",
    "To be consistent with our above approach, we'll also morph an atom for this ligand."
   ]
  },
  {
   "cell_type": "code",
   "execution_count": null,
   "metadata": {},
   "outputs": [],
   "source": [
    "# load another duplicate of the original ligand, but keep the hydrogens\n",
    "\n",
    "mod_ligand_methyl = Chem.MolFromMolFile(\"ligands/13U.sdf\", removeHs=False)\n",
    "mod_ligand_methyl        # This is the original structure. In the cells below, we will convert Hydrogen-59 to a Carbon."
   ]
  },
  {
   "cell_type": "code",
   "execution_count": null,
   "metadata": {},
   "outputs": [],
   "source": [
    "# Use the index number to select the atom we want to change - look at image to see we want to morph atom 59\n",
    "atom = mod_ligand_methyl.GetAtomWithIdx(59)\n",
    "\n",
    "atom.SetAtomicNum(6) # Change the atom to carbon\n",
    "atom.SetNumExplicitHs(3) # Add 3 explicit hydrogens to the carbon\n",
    "\n",
    "mod_ligand_methyl = Chem.RemoveAllHs(mod_ligand_methyl) # Remove the H's for viewing\n",
    "mod_ligand_methyl"
   ]
  },
  {
   "cell_type": "markdown",
   "metadata": {},
   "source": [
    "## Getting reasonable moleculer geometries\n",
    "\n",
    "Now that we have our manipulated molecules, we'll optimize them using RDKit and save them.\n",
    "\n",
    "When we say \"optimize\" in this context, we are referring to a geometry optimization. \n",
    "This is a calculation that is done to make sure that the atoms in the molecule are in a reasonable, lower energy position.\n",
    "Our original ligand is already in an \"ideal\" geometry, however, we'll perform this step with our modified molecules."
   ]
  },
  {
   "cell_type": "code",
   "execution_count": null,
   "metadata": {},
   "outputs": [],
   "source": [
    "# Optimize new molecules and save\n",
    "from rdkit.Chem import AllChem\n",
    "\n",
    "# Add hydrogens for the optimization\n",
    "Chem.SanitizeMol(mod_ligand_N)\n",
    "mod_ligand_NH = Chem.AddHs(mod_ligand_N)\n"
   ]
  },
  {
   "cell_type": "markdown",
   "metadata": {},
   "source": [
    "Note here about how hydrogens aren't in the correct place."
   ]
  },
  {
   "cell_type": "code",
   "execution_count": null,
   "metadata": {},
   "outputs": [],
   "source": [
    "# When you look at this image, it's going to be very confusing!\n",
    "mod_ligand_NH"
   ]
  },
  {
   "cell_type": "code",
   "execution_count": null,
   "metadata": {},
   "outputs": [],
   "source": [
    "# Do a constrained embedding to keep the ligand in the same position\n",
    "# this allows for the hydrogens to be added in reasonable locations, but keeps\n",
    "# the heavy atoms in the same position\n",
    "# See https://rdkit.org/docs/source/rdkit.Chem.AllChem.html#rdkit.Chem.AllChem.ConstrainedEmbed\n",
    "constrained_mol = AllChem.ConstrainedEmbed(mod_ligand_NH, mod_ligand_N, useTethers=True)\n",
    "mod_ligand_NH"
   ]
  },
  {
   "cell_type": "code",
   "execution_count": null,
   "metadata": {},
   "outputs": [],
   "source": [
    "# Perform geometry optimization\n",
    "opt_N = AllChem.MMFFOptimizeMolecule(mod_ligand_NH)\n",
    "mod_ligand_NH"
   ]
  },
  {
   "cell_type": "code",
   "execution_count": null,
   "metadata": {},
   "outputs": [],
   "source": [
    "# Repeat process on methyl ligand\n",
    "\n",
    "mod_ligand_methylH = Chem.AddHs(mod_ligand_methyl)\n",
    "\n",
    "constrained_mol = AllChem.ConstrainedEmbed(mod_ligand_methylH, mod_ligand_methyl, useTethers=True)\n",
    "constrained_mol"
   ]
  },
  {
   "cell_type": "code",
   "execution_count": null,
   "metadata": {},
   "outputs": [],
   "source": [
    "opt_methyl = AllChem.MMFFOptimizeMoleculeConfs(mod_ligand_methylH)\n",
    "Chem.RemoveAllHs(mod_ligand_methylH)"
   ]
  },
  {
   "cell_type": "code",
   "execution_count": null,
   "metadata": {},
   "outputs": [],
   "source": [
    "# save to new files\n",
    "\n",
    "Chem.MolToMolFile(mod_ligand_NH, 'ligands/13U_modified_N.sdf')\n",
    "Chem.MolToMolFile(mod_ligand_methylH, 'ligands/13U_modified_methyl.sdf')"
   ]
  },
  {
   "cell_type": "code",
   "execution_count": null,
   "metadata": {},
   "outputs": [],
   "source": [
    "# visualize structures in 3D\n",
    "view = nv.show_file(\"ligands/13U_modified_N.sdf\")\n",
    "view"
   ]
  },
  {
   "cell_type": "code",
   "execution_count": null,
   "metadata": {},
   "outputs": [],
   "source": [
    "# visualize structures in 3D\n",
    "view = nv.show_file(\"ligands/13U_modified_methyl.sdf\")\n",
    "view"
   ]
  },
  {
   "cell_type": "markdown",
   "metadata": {},
   "source": [
    "<div class=\"alert alert-block alert-warning\"> \n",
    "\n",
    "<h3>Exercise</h3>\n",
    "\n",
    "Starting with our original ligand, identify one hydrogen you would like to change to a hydroxyl (-OH) group. \n",
    "Make the change using RDKit and save your new ligand.\n",
    "\n",
    "To perform this task, you will need to \n",
    "\n",
    "(1) Load a new variable for the ligand to use as a starting point. Make sure the molecule includes hydrogens.  \n",
    "(2) Select a hydrogen to change and note the index.  \n",
    "(3) Change the atomic number of the hydrogen.  \n",
    "(4) Perform a constrained embedding and geometry optimization.\n",
    "\n",
    "</div>"
   ]
  },
  {
   "cell_type": "code",
   "execution_count": null,
   "metadata": {},
   "outputs": [],
   "source": [
    "ligand = Chem.MolFromMolFile(\"ligands/13U.sdf\", removeHs=False)\n",
    "ligand"
   ]
  },
  {
   "cell_type": "code",
   "execution_count": null,
   "metadata": {},
   "outputs": [],
   "source": [
    "# Let's change something on the cyclohexane (to the left) to an OH\n",
    "atom = ligand.GetAtomWithIdx(40)\n",
    "atom.SetAtomicNum(8)"
   ]
  },
  {
   "cell_type": "code",
   "execution_count": null,
   "metadata": {},
   "outputs": [],
   "source": [
    "ligand"
   ]
  },
  {
   "cell_type": "code",
   "execution_count": null,
   "metadata": {},
   "outputs": [],
   "source": [
    "Chem.SanitizeMol(ligand)"
   ]
  },
  {
   "cell_type": "code",
   "execution_count": null,
   "metadata": {},
   "outputs": [],
   "source": [
    "mod_ligand_OH = Chem.AddHs(ligand)\n",
    "\n",
    "# Do a constrained embedding to keep the ligand in the same position\n",
    "# this allows for the hydrogens to be added in reasonable locations, but keeps\n",
    "# the heavy atoms in the same position\n",
    "# See https://rdkit.org/docs/source/rdkit.Chem.AllChem.html#rdkit.Chem.AllChem.ConstrainedEmbed\n",
    "constrained_mol = AllChem.ConstrainedEmbed(mod_ligand_OH, ligand, useTethers=True)\n",
    "constrained_mol"
   ]
  },
  {
   "cell_type": "code",
   "execution_count": null,
   "metadata": {},
   "outputs": [],
   "source": [
    "opt_OH = AllChem.MMFFOptimizeMoleculeConfs(mod_ligand_OH)\n",
    "Chem.RemoveAllHs(mod_ligand_OH)"
   ]
  },
  {
   "cell_type": "code",
   "execution_count": null,
   "metadata": {},
   "outputs": [],
   "source": [
    "Chem.MolToMolFile(mod_ligand_OH, 'ligands/13U_modified_OH.sdf')"
   ]
  },
  {
   "cell_type": "code",
   "execution_count": null,
   "metadata": {},
   "outputs": [],
   "source": [
    "view = nv.show_file(\"ligands/13U_modified_OH.sdf\")\n",
    "view"
   ]
  },
  {
   "cell_type": "code",
   "execution_count": null,
   "metadata": {},
   "outputs": [],
   "source": []
  }
 ],
 "metadata": {
  "kernelspec": {
   "display_name": "Python 3 (ipykernel)",
   "language": "python",
   "name": "python3"
  },
  "language_info": {
   "codemirror_mode": {
    "name": "ipython",
    "version": 3
   },
   "file_extension": ".py",
   "mimetype": "text/x-python",
   "name": "python",
   "nbconvert_exporter": "python",
   "pygments_lexer": "ipython3",
   "version": "3.11.10"
  }
 },
 "nbformat": 4,
 "nbformat_minor": 4
}
